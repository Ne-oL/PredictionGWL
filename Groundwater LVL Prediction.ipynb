{
 "cells": [
  {
   "cell_type": "markdown",
   "id": "ea79baaa",
   "metadata": {},
   "source": [
    "## Modeling Groundwater fluctuation in Al Ain City, UAE"
   ]
  },
  {
   "cell_type": "markdown",
   "id": "7fb142c5",
   "metadata": {},
   "source": [
    "## 1. Preparing and Processing the data before inserting it to the Neural Network"
   ]
  },
  {
   "cell_type": "markdown",
   "id": "40ba84e3",
   "metadata": {},
   "source": [
    "### 1.1 Importing the Python Libraries"
   ]
  },
  {
   "cell_type": "code",
   "execution_count": 1,
   "id": "a2ea39c9",
   "metadata": {},
   "outputs": [],
   "source": [
    "from fastai.tabular.all import *\n",
    "import pandas as pd\n",
    "import pathlib\n",
    "from itertools import chain\n",
    "import copy"
   ]
  },
  {
   "cell_type": "markdown",
   "id": "550ca60d",
   "metadata": {},
   "source": [
    "### 1.2 Importing the data into the program"
   ]
  },
  {
   "cell_type": "code",
   "execution_count": 2,
   "id": "a73d3107",
   "metadata": {},
   "outputs": [
    {
     "data": {
      "text/plain": "          X        Y       YEAR  TIME  Readings  Evaporation  Rain  \\\n0    360735  2669963 2000-01-01     0       NaN        208.0   NaN   \n1    360735  2669963 2000-02-01     1       NaN        235.5   NaN   \n2    360735  2669963 2000-03-01     2       NaN        371.1   NaN   \n3    360735  2669963 2000-04-01     3       NaN        509.0   NaN   \n4    360735  2669963 2000-05-01     4       NaN        592.4   NaN   \n..      ...      ...        ...   ...       ...          ...   ...   \n247  360735  2669963 2020-08-01   199       NaN          NaN   NaN   \n248  360735  2669963 2020-09-01   200       NaN          NaN   NaN   \n249  360735  2669963 2020-10-01   201       NaN          NaN   NaN   \n250  360735  2669963 2020-11-01   202       NaN          NaN   NaN   \n251  360735  2669963 2020-12-01   203       NaN          NaN   NaN   \n\n     Temperature  Humidity  Unnamed: 9 Unnamed: 10  Unnamed: 11  \n0            NaN       NaN         NaN         NaN          NaN  \n1            NaN       NaN         NaN         NaN          NaN  \n2            NaN       NaN         NaN         NaN          NaN  \n3            NaN       NaN         NaN         NaN          NaN  \n4            NaN       NaN         NaN         NaN          NaN  \n..           ...       ...         ...         ...          ...  \n247          NaN       NaN         NaN         NaN          NaN  \n248          NaN       NaN         NaN         NaN          NaN  \n249          NaN       NaN         NaN         NaN          NaN  \n250          NaN       NaN         NaN         NaN          NaN  \n251          NaN       NaN         NaN         NaN          NaN  \n\n[252 rows x 12 columns]",
      "text/html": "<div>\n<style scoped>\n    .dataframe tbody tr th:only-of-type {\n        vertical-align: middle;\n    }\n\n    .dataframe tbody tr th {\n        vertical-align: top;\n    }\n\n    .dataframe thead th {\n        text-align: right;\n    }\n</style>\n<table border=\"1\" class=\"dataframe\">\n  <thead>\n    <tr style=\"text-align: right;\">\n      <th></th>\n      <th>X</th>\n      <th>Y</th>\n      <th>YEAR</th>\n      <th>TIME</th>\n      <th>Readings</th>\n      <th>Evaporation</th>\n      <th>Rain</th>\n      <th>Temperature</th>\n      <th>Humidity</th>\n      <th>Unnamed: 9</th>\n      <th>Unnamed: 10</th>\n      <th>Unnamed: 11</th>\n    </tr>\n  </thead>\n  <tbody>\n    <tr>\n      <th>0</th>\n      <td>360735</td>\n      <td>2669963</td>\n      <td>2000-01-01</td>\n      <td>0</td>\n      <td>NaN</td>\n      <td>208.0</td>\n      <td>NaN</td>\n      <td>NaN</td>\n      <td>NaN</td>\n      <td>NaN</td>\n      <td>NaN</td>\n      <td>NaN</td>\n    </tr>\n    <tr>\n      <th>1</th>\n      <td>360735</td>\n      <td>2669963</td>\n      <td>2000-02-01</td>\n      <td>1</td>\n      <td>NaN</td>\n      <td>235.5</td>\n      <td>NaN</td>\n      <td>NaN</td>\n      <td>NaN</td>\n      <td>NaN</td>\n      <td>NaN</td>\n      <td>NaN</td>\n    </tr>\n    <tr>\n      <th>2</th>\n      <td>360735</td>\n      <td>2669963</td>\n      <td>2000-03-01</td>\n      <td>2</td>\n      <td>NaN</td>\n      <td>371.1</td>\n      <td>NaN</td>\n      <td>NaN</td>\n      <td>NaN</td>\n      <td>NaN</td>\n      <td>NaN</td>\n      <td>NaN</td>\n    </tr>\n    <tr>\n      <th>3</th>\n      <td>360735</td>\n      <td>2669963</td>\n      <td>2000-04-01</td>\n      <td>3</td>\n      <td>NaN</td>\n      <td>509.0</td>\n      <td>NaN</td>\n      <td>NaN</td>\n      <td>NaN</td>\n      <td>NaN</td>\n      <td>NaN</td>\n      <td>NaN</td>\n    </tr>\n    <tr>\n      <th>4</th>\n      <td>360735</td>\n      <td>2669963</td>\n      <td>2000-05-01</td>\n      <td>4</td>\n      <td>NaN</td>\n      <td>592.4</td>\n      <td>NaN</td>\n      <td>NaN</td>\n      <td>NaN</td>\n      <td>NaN</td>\n      <td>NaN</td>\n      <td>NaN</td>\n    </tr>\n    <tr>\n      <th>...</th>\n      <td>...</td>\n      <td>...</td>\n      <td>...</td>\n      <td>...</td>\n      <td>...</td>\n      <td>...</td>\n      <td>...</td>\n      <td>...</td>\n      <td>...</td>\n      <td>...</td>\n      <td>...</td>\n      <td>...</td>\n    </tr>\n    <tr>\n      <th>247</th>\n      <td>360735</td>\n      <td>2669963</td>\n      <td>2020-08-01</td>\n      <td>199</td>\n      <td>NaN</td>\n      <td>NaN</td>\n      <td>NaN</td>\n      <td>NaN</td>\n      <td>NaN</td>\n      <td>NaN</td>\n      <td>NaN</td>\n      <td>NaN</td>\n    </tr>\n    <tr>\n      <th>248</th>\n      <td>360735</td>\n      <td>2669963</td>\n      <td>2020-09-01</td>\n      <td>200</td>\n      <td>NaN</td>\n      <td>NaN</td>\n      <td>NaN</td>\n      <td>NaN</td>\n      <td>NaN</td>\n      <td>NaN</td>\n      <td>NaN</td>\n      <td>NaN</td>\n    </tr>\n    <tr>\n      <th>249</th>\n      <td>360735</td>\n      <td>2669963</td>\n      <td>2020-10-01</td>\n      <td>201</td>\n      <td>NaN</td>\n      <td>NaN</td>\n      <td>NaN</td>\n      <td>NaN</td>\n      <td>NaN</td>\n      <td>NaN</td>\n      <td>NaN</td>\n      <td>NaN</td>\n    </tr>\n    <tr>\n      <th>250</th>\n      <td>360735</td>\n      <td>2669963</td>\n      <td>2020-11-01</td>\n      <td>202</td>\n      <td>NaN</td>\n      <td>NaN</td>\n      <td>NaN</td>\n      <td>NaN</td>\n      <td>NaN</td>\n      <td>NaN</td>\n      <td>NaN</td>\n      <td>NaN</td>\n    </tr>\n    <tr>\n      <th>251</th>\n      <td>360735</td>\n      <td>2669963</td>\n      <td>2020-12-01</td>\n      <td>203</td>\n      <td>NaN</td>\n      <td>NaN</td>\n      <td>NaN</td>\n      <td>NaN</td>\n      <td>NaN</td>\n      <td>NaN</td>\n      <td>NaN</td>\n      <td>NaN</td>\n    </tr>\n  </tbody>\n</table>\n<p>252 rows × 12 columns</p>\n</div>"
     },
     "execution_count": 2,
     "metadata": {},
     "output_type": "execute_result"
    }
   ],
   "source": [
    "path= pathlib.WindowsPath('F:\\Code\\Sample DataTOT.xlsx')\n",
    "data= pd.read_excel(path, sheet_name=None)\n",
    "data['GWP-477']"
   ]
  },
  {
   "cell_type": "markdown",
   "id": "6987b954",
   "metadata": {},
   "source": [
    "### 1.3 Removing extra Wells and Surplus readings"
   ]
  },
  {
   "cell_type": "code",
   "execution_count": 3,
   "id": "69f7d29c",
   "metadata": {},
   "outputs": [
    {
     "data": {
      "text/plain": "['GWP-012',\n 'GWP-013',\n 'GWP-062',\n 'GWP-064',\n 'GWP-065',\n 'GWP-334A',\n 'GWP-334B',\n 'GWP-477',\n 'GWP-479',\n 'GWP-480']"
     },
     "execution_count": 3,
     "metadata": {},
     "output_type": "execute_result"
    }
   ],
   "source": [
    "WellsNum = list(data.keys())\n",
    "WellsNum"
   ]
  },
  {
   "cell_type": "code",
   "execution_count": 4,
   "id": "bef419e5",
   "metadata": {
    "scrolled": true
   },
   "outputs": [],
   "source": [
    "GWL=pd.DataFrame()\n",
    "dropindx=list(chain(range(0,48),range(180,252))) #Range of Important data (covering the period of Jan2004-Dec2012), so we use them and discard the rest\n",
    "for x in WellsNum:\n",
    "    data[x].drop(labels=dropindx,inplace=True)\n",
    "    data[x].interpolate(method='pad',inplace=True)\n",
    "    rng = list(range(len(data[x].index)))\n",
    "    for i in rng:\n",
    "        GWL=GWL.append([[x,data[x].iloc[i,0],data[x].iloc[i,1],data[x].iloc[i,2],data[x].iloc[i,3],data[x].iloc[i,4],data[x].iloc[i,5],data[x].iloc[i,6],data[x].iloc[i,7],data[x].iloc[i,8]]], ignore_index=True)\n",
    "GWL.pop(4)\n",
    "GWL.rename(columns={0:'Name',1: 'x',2:'y', 3:'TIME', 4:'YEAR',5: 'Readings',6: 'Evaporation',7:'Rain', 8: 'Temperature', 9:'Humidity'}, inplace=True)"
   ]
  },
  {
   "cell_type": "code",
   "execution_count": 5,
   "id": "ca970787",
   "metadata": {
    "scrolled": true
   },
   "outputs": [
    {
     "data": {
      "text/plain": "         Name       x        y       TIME  Readings  Evaporation  Rain  \\\n0     GWP-012  333515  2670609 2004-01-01     34.97        198.2   0.0   \n1     GWP-012  333515  2670609 2004-02-01     34.97        259.6   4.8   \n2     GWP-012  333515  2670609 2004-03-01     34.58        423.5   0.0   \n3     GWP-012  333515  2670609 2004-04-01     34.69        479.3   0.0   \n4     GWP-012  333515  2670609 2004-05-01     34.08        589.9   0.0   \n...       ...     ...      ...        ...       ...          ...   ...   \n1315  GWP-480  360557  2676180 2014-08-01    229.57        526.8   5.0   \n1316  GWP-480  360557  2676180 2014-09-01    229.57        461.8   0.0   \n1317  GWP-480  360557  2676180 2014-10-01    229.57        420.4   0.2   \n1318  GWP-480  360557  2676180 2014-11-01    229.57        264.1   1.2   \n1319  GWP-480  360557  2676180 2014-12-01    229.57        204.0   0.0   \n\n      Temperature  Humidity  \n0            26.4  64.96774  \n1            24.2  64.00000  \n2            24.5  55.86207  \n3            27.5  41.29032  \n4            31.0  38.60000  \n...           ...       ...  \n1315         40.2  37.80645  \n1316         38.8  37.80000  \n1317         34.9  41.41935  \n1318         29.8  49.63330  \n1319         24.6  55.77419  \n\n[1320 rows x 9 columns]",
      "text/html": "<div>\n<style scoped>\n    .dataframe tbody tr th:only-of-type {\n        vertical-align: middle;\n    }\n\n    .dataframe tbody tr th {\n        vertical-align: top;\n    }\n\n    .dataframe thead th {\n        text-align: right;\n    }\n</style>\n<table border=\"1\" class=\"dataframe\">\n  <thead>\n    <tr style=\"text-align: right;\">\n      <th></th>\n      <th>Name</th>\n      <th>x</th>\n      <th>y</th>\n      <th>TIME</th>\n      <th>Readings</th>\n      <th>Evaporation</th>\n      <th>Rain</th>\n      <th>Temperature</th>\n      <th>Humidity</th>\n    </tr>\n  </thead>\n  <tbody>\n    <tr>\n      <th>0</th>\n      <td>GWP-012</td>\n      <td>333515</td>\n      <td>2670609</td>\n      <td>2004-01-01</td>\n      <td>34.97</td>\n      <td>198.2</td>\n      <td>0.0</td>\n      <td>26.4</td>\n      <td>64.96774</td>\n    </tr>\n    <tr>\n      <th>1</th>\n      <td>GWP-012</td>\n      <td>333515</td>\n      <td>2670609</td>\n      <td>2004-02-01</td>\n      <td>34.97</td>\n      <td>259.6</td>\n      <td>4.8</td>\n      <td>24.2</td>\n      <td>64.00000</td>\n    </tr>\n    <tr>\n      <th>2</th>\n      <td>GWP-012</td>\n      <td>333515</td>\n      <td>2670609</td>\n      <td>2004-03-01</td>\n      <td>34.58</td>\n      <td>423.5</td>\n      <td>0.0</td>\n      <td>24.5</td>\n      <td>55.86207</td>\n    </tr>\n    <tr>\n      <th>3</th>\n      <td>GWP-012</td>\n      <td>333515</td>\n      <td>2670609</td>\n      <td>2004-04-01</td>\n      <td>34.69</td>\n      <td>479.3</td>\n      <td>0.0</td>\n      <td>27.5</td>\n      <td>41.29032</td>\n    </tr>\n    <tr>\n      <th>4</th>\n      <td>GWP-012</td>\n      <td>333515</td>\n      <td>2670609</td>\n      <td>2004-05-01</td>\n      <td>34.08</td>\n      <td>589.9</td>\n      <td>0.0</td>\n      <td>31.0</td>\n      <td>38.60000</td>\n    </tr>\n    <tr>\n      <th>...</th>\n      <td>...</td>\n      <td>...</td>\n      <td>...</td>\n      <td>...</td>\n      <td>...</td>\n      <td>...</td>\n      <td>...</td>\n      <td>...</td>\n      <td>...</td>\n    </tr>\n    <tr>\n      <th>1315</th>\n      <td>GWP-480</td>\n      <td>360557</td>\n      <td>2676180</td>\n      <td>2014-08-01</td>\n      <td>229.57</td>\n      <td>526.8</td>\n      <td>5.0</td>\n      <td>40.2</td>\n      <td>37.80645</td>\n    </tr>\n    <tr>\n      <th>1316</th>\n      <td>GWP-480</td>\n      <td>360557</td>\n      <td>2676180</td>\n      <td>2014-09-01</td>\n      <td>229.57</td>\n      <td>461.8</td>\n      <td>0.0</td>\n      <td>38.8</td>\n      <td>37.80000</td>\n    </tr>\n    <tr>\n      <th>1317</th>\n      <td>GWP-480</td>\n      <td>360557</td>\n      <td>2676180</td>\n      <td>2014-10-01</td>\n      <td>229.57</td>\n      <td>420.4</td>\n      <td>0.2</td>\n      <td>34.9</td>\n      <td>41.41935</td>\n    </tr>\n    <tr>\n      <th>1318</th>\n      <td>GWP-480</td>\n      <td>360557</td>\n      <td>2676180</td>\n      <td>2014-11-01</td>\n      <td>229.57</td>\n      <td>264.1</td>\n      <td>1.2</td>\n      <td>29.8</td>\n      <td>49.63330</td>\n    </tr>\n    <tr>\n      <th>1319</th>\n      <td>GWP-480</td>\n      <td>360557</td>\n      <td>2676180</td>\n      <td>2014-12-01</td>\n      <td>229.57</td>\n      <td>204.0</td>\n      <td>0.0</td>\n      <td>24.6</td>\n      <td>55.77419</td>\n    </tr>\n  </tbody>\n</table>\n<p>1320 rows × 9 columns</p>\n</div>"
     },
     "execution_count": 5,
     "metadata": {},
     "output_type": "execute_result"
    }
   ],
   "source": [
    "GWL #Checking the Data After organaising and filtering them"
   ]
  },
  {
   "cell_type": "markdown",
   "id": "c9787b24",
   "metadata": {},
   "source": [
    "### 1.4 Investigate the data and check for missing Values"
   ]
  },
  {
   "cell_type": "code",
   "execution_count": 6,
   "id": "bbbb6920",
   "metadata": {
    "scrolled": false
   },
   "outputs": [
    {
     "name": "stdout",
     "output_type": "stream",
     "text": [
      "Name            10\n",
      "x               10\n",
      "y               10\n",
      "TIME           132\n",
      "Readings       575\n",
      "Evaporation    132\n",
      "Rain            45\n",
      "Temperature     88\n",
      "Humidity       131\n",
      "dtype: int64\n"
     ]
    },
    {
     "data": {
      "text/plain": "Name           0\nx              0\ny              0\nTIME           0\nReadings       1\nEvaporation    0\nRain           0\nTemperature    0\nHumidity       0\ndtype: int64"
     },
     "execution_count": 6,
     "metadata": {},
     "output_type": "execute_result"
    }
   ],
   "source": [
    "print(GWL.nunique())\n",
    "GWL.isnull().sum()"
   ]
  },
  {
   "cell_type": "code",
   "execution_count": 8,
   "id": "14ddc81c",
   "metadata": {},
   "outputs": [],
   "source": [
    "# GWL.to_excel('CleanData.xlsx')"
   ]
  },
  {
   "cell_type": "markdown",
   "id": "88263ee3",
   "metadata": {},
   "source": [
    "### 1.5 Interpolate the missing Values using Linear interpolation"
   ]
  },
  {
   "cell_type": "code",
   "execution_count": 7,
   "id": "97c5c781",
   "metadata": {
    "scrolled": true
   },
   "outputs": [
    {
     "data": {
      "text/plain": "         Name       x        y       TIME  Readings  Evaporation  Rain  \\\n0     GWP-012  333515  2670609 2004-01-01     34.97        198.2   0.0   \n1     GWP-012  333515  2670609 2004-02-01     34.97        259.6   4.8   \n2     GWP-012  333515  2670609 2004-03-01     34.58        423.5   0.0   \n3     GWP-012  333515  2670609 2004-04-01     34.69        479.3   0.0   \n4     GWP-012  333515  2670609 2004-05-01     34.08        589.9   0.0   \n...       ...     ...      ...        ...       ...          ...   ...   \n1315  GWP-480  360557  2676180 2014-08-01    229.57        526.8   5.0   \n1316  GWP-480  360557  2676180 2014-09-01    229.57        461.8   0.0   \n1317  GWP-480  360557  2676180 2014-10-01    229.57        420.4   0.2   \n1318  GWP-480  360557  2676180 2014-11-01    229.57        264.1   1.2   \n1319  GWP-480  360557  2676180 2014-12-01    229.57        204.0   0.0   \n\n      Temperature  Humidity  \n0            26.4  64.96774  \n1            24.2  64.00000  \n2            24.5  55.86207  \n3            27.5  41.29032  \n4            31.0  38.60000  \n...           ...       ...  \n1315         40.2  37.80645  \n1316         38.8  37.80000  \n1317         34.9  41.41935  \n1318         29.8  49.63330  \n1319         24.6  55.77419  \n\n[1320 rows x 9 columns]",
      "text/html": "<div>\n<style scoped>\n    .dataframe tbody tr th:only-of-type {\n        vertical-align: middle;\n    }\n\n    .dataframe tbody tr th {\n        vertical-align: top;\n    }\n\n    .dataframe thead th {\n        text-align: right;\n    }\n</style>\n<table border=\"1\" class=\"dataframe\">\n  <thead>\n    <tr style=\"text-align: right;\">\n      <th></th>\n      <th>Name</th>\n      <th>x</th>\n      <th>y</th>\n      <th>TIME</th>\n      <th>Readings</th>\n      <th>Evaporation</th>\n      <th>Rain</th>\n      <th>Temperature</th>\n      <th>Humidity</th>\n    </tr>\n  </thead>\n  <tbody>\n    <tr>\n      <th>0</th>\n      <td>GWP-012</td>\n      <td>333515</td>\n      <td>2670609</td>\n      <td>2004-01-01</td>\n      <td>34.97</td>\n      <td>198.2</td>\n      <td>0.0</td>\n      <td>26.4</td>\n      <td>64.96774</td>\n    </tr>\n    <tr>\n      <th>1</th>\n      <td>GWP-012</td>\n      <td>333515</td>\n      <td>2670609</td>\n      <td>2004-02-01</td>\n      <td>34.97</td>\n      <td>259.6</td>\n      <td>4.8</td>\n      <td>24.2</td>\n      <td>64.00000</td>\n    </tr>\n    <tr>\n      <th>2</th>\n      <td>GWP-012</td>\n      <td>333515</td>\n      <td>2670609</td>\n      <td>2004-03-01</td>\n      <td>34.58</td>\n      <td>423.5</td>\n      <td>0.0</td>\n      <td>24.5</td>\n      <td>55.86207</td>\n    </tr>\n    <tr>\n      <th>3</th>\n      <td>GWP-012</td>\n      <td>333515</td>\n      <td>2670609</td>\n      <td>2004-04-01</td>\n      <td>34.69</td>\n      <td>479.3</td>\n      <td>0.0</td>\n      <td>27.5</td>\n      <td>41.29032</td>\n    </tr>\n    <tr>\n      <th>4</th>\n      <td>GWP-012</td>\n      <td>333515</td>\n      <td>2670609</td>\n      <td>2004-05-01</td>\n      <td>34.08</td>\n      <td>589.9</td>\n      <td>0.0</td>\n      <td>31.0</td>\n      <td>38.60000</td>\n    </tr>\n    <tr>\n      <th>...</th>\n      <td>...</td>\n      <td>...</td>\n      <td>...</td>\n      <td>...</td>\n      <td>...</td>\n      <td>...</td>\n      <td>...</td>\n      <td>...</td>\n      <td>...</td>\n    </tr>\n    <tr>\n      <th>1315</th>\n      <td>GWP-480</td>\n      <td>360557</td>\n      <td>2676180</td>\n      <td>2014-08-01</td>\n      <td>229.57</td>\n      <td>526.8</td>\n      <td>5.0</td>\n      <td>40.2</td>\n      <td>37.80645</td>\n    </tr>\n    <tr>\n      <th>1316</th>\n      <td>GWP-480</td>\n      <td>360557</td>\n      <td>2676180</td>\n      <td>2014-09-01</td>\n      <td>229.57</td>\n      <td>461.8</td>\n      <td>0.0</td>\n      <td>38.8</td>\n      <td>37.80000</td>\n    </tr>\n    <tr>\n      <th>1317</th>\n      <td>GWP-480</td>\n      <td>360557</td>\n      <td>2676180</td>\n      <td>2014-10-01</td>\n      <td>229.57</td>\n      <td>420.4</td>\n      <td>0.2</td>\n      <td>34.9</td>\n      <td>41.41935</td>\n    </tr>\n    <tr>\n      <th>1318</th>\n      <td>GWP-480</td>\n      <td>360557</td>\n      <td>2676180</td>\n      <td>2014-11-01</td>\n      <td>229.57</td>\n      <td>264.1</td>\n      <td>1.2</td>\n      <td>29.8</td>\n      <td>49.63330</td>\n    </tr>\n    <tr>\n      <th>1319</th>\n      <td>GWP-480</td>\n      <td>360557</td>\n      <td>2676180</td>\n      <td>2014-12-01</td>\n      <td>229.57</td>\n      <td>204.0</td>\n      <td>0.0</td>\n      <td>24.6</td>\n      <td>55.77419</td>\n    </tr>\n  </tbody>\n</table>\n<p>1320 rows × 9 columns</p>\n</div>"
     },
     "execution_count": 7,
     "metadata": {},
     "output_type": "execute_result"
    }
   ],
   "source": [
    "GWL.interpolate(method='pad',inplace=True)\n",
    "GWL"
   ]
  },
  {
   "cell_type": "code",
   "execution_count": 10,
   "id": "9aea1ee6",
   "metadata": {},
   "outputs": [],
   "source": [
    "# GWL.to_excel('InterpolatedData(Pad)2.xlsx')"
   ]
  },
  {
   "cell_type": "markdown",
   "id": "6cd77652",
   "metadata": {},
   "source": [
    "### 1.6 Create a backup copy of the processed data incase the need arise to undo any unexpected Modificaitons"
   ]
  },
  {
   "cell_type": "code",
   "execution_count": 8,
   "id": "b8fbbfbf",
   "metadata": {},
   "outputs": [],
   "source": [
    "test=copy.deepcopy(GWL)"
   ]
  },
  {
   "cell_type": "code",
   "execution_count": 9,
   "id": "a8966a35",
   "metadata": {},
   "outputs": [],
   "source": [
    "GWL=copy.deepcopy(test)"
   ]
  },
  {
   "cell_type": "markdown",
   "id": "ef5d7906",
   "metadata": {},
   "source": [
    "## 2. Preparing the Neural Network to recieve the data"
   ]
  },
  {
   "cell_type": "markdown",
   "id": "68a1f8a3",
   "metadata": {},
   "source": [
    "### 2.1 Determining the type of data fed into the network and the processes done to convert the data to acceptable format"
   ]
  },
  {
   "cell_type": "code",
   "execution_count": 10,
   "id": "25aa1561",
   "metadata": {},
   "outputs": [],
   "source": [
    "cont_names=[ 'Evaporation', 'Rain', 'Temperature', 'Humidity']\n",
    "cat_names = ['Name','TIME', 'x','y']\n",
    "procs=[Normalize, Categorify]\n",
    "y_names='Readings'"
   ]
  },
  {
   "cell_type": "markdown",
   "id": "da50e250",
   "metadata": {},
   "source": [
    "### 2.2 Create a Training and Verification samples"
   ]
  },
  {
   "cell_type": "code",
   "execution_count": 11,
   "id": "9b681ae2",
   "metadata": {},
   "outputs": [],
   "source": [
    "# x=list(range(0,1189,132))            #values for the Conference Paper\n",
    "# y=list(range(108,1188,132))          #values for the Conference Paper\n",
    "x=list(range(0,1321,132))              #values for the Expo2020 Video\n",
    "y=list(range(108,1320,132))            #values for the Expo2020 Video\n",
    "samplist=[]\n",
    "valist=[]\n",
    "for i in list(range(len(WellsNum))):  #The Range represent the number of wells (including zero)\n",
    "    samplist=samplist+(list(range(x[i],y[i])))\n",
    "    valist=valist+(list(range(y[i],x[i+1])))\n",
    "splits= (samplist,valist)"
   ]
  },
  {
   "cell_type": "markdown",
   "id": "7dc8aa25",
   "metadata": {},
   "source": [
    "### 5.3 Create a DataLoader to collect the corrected data, ranges and required processes"
   ]
  },
  {
   "cell_type": "code",
   "execution_count": 12,
   "id": "179ae5bb",
   "metadata": {},
   "outputs": [],
   "source": [
    "to= TabularPandas(GWL, procs=procs, cat_names=cat_names, cont_names=cont_names, splits=splits, y_names=y_names, y_block= RegressionBlock())"
   ]
  },
  {
   "cell_type": "markdown",
   "id": "9d774797",
   "metadata": {},
   "source": [
    "### 5.4 Create a range of prediciton to increase the accuracy and decrease the training time"
   ]
  },
  {
   "cell_type": "code",
   "execution_count": 13,
   "id": "93fc4f11",
   "metadata": {},
   "outputs": [
    {
     "data": {
      "text/plain": "(26.280000686645508, 294.20399780273436)"
     },
     "execution_count": 13,
     "metadata": {},
     "output_type": "execute_result"
    }
   ],
   "source": [
    "y=to.train.y\n",
    "y_range=((y.min(),y.max()*1.2))\n",
    "y_range"
   ]
  },
  {
   "cell_type": "markdown",
   "id": "10927346",
   "metadata": {},
   "source": [
    "## 3 Create & Train the Model"
   ]
  },
  {
   "cell_type": "markdown",
   "id": "1668183b",
   "metadata": {},
   "source": [
    "### 3.1 Set the Seed, create the Learner and determine the Best Possible Hyperparameters"
   ]
  },
  {
   "cell_type": "code",
   "execution_count": 14,
   "id": "f749a62b",
   "metadata": {},
   "outputs": [],
   "source": [
    "set_seed(42)\n",
    "dls = to.dataloaders(15)\n",
    "learn = tabular_learner(dls, layers=[700,200,600,100,9], metrics=[rmse,R2Score(),PearsonCorrCoef()],opt_func=ranger, y_range=y_range)\n",
    "learn.path = Path('F:\\\\Code\\\\Files')"
   ]
  },
  {
   "cell_type": "code",
   "execution_count": 15,
   "id": "24ad2cd2",
   "metadata": {
    "scrolled": true
   },
   "outputs": [
    {
     "data": {
      "text/plain": "<IPython.core.display.HTML object>",
      "text/html": "\n    <div>\n        <style>\n            /* Turns off some styling */\n            progress {\n                /* gets rid of default border in Firefox and Opera. */\n                border: none;\n                /* Needs to be in here for Safari polyfill so background images work as expected. */\n                background-size: auto;\n            }\n            .progress-bar-interrupted, .progress-bar-interrupted::-webkit-progress-bar {\n                background: #F44336;\n            }\n        </style>\n      <progress value='0' class='' max='50' style='width:300px; height:20px; vertical-align: middle;'></progress>\n      \n    </div>\n    \n"
     },
     "metadata": {},
     "output_type": "display_data"
    },
    {
     "name": "stdout",
     "output_type": "stream",
     "text": [
      "Better model found at epoch 0 with r2_score value: -0.058932374092227846.\n"
     ]
    },
    {
     "data": {
      "text/plain": "<Figure size 432x288 with 1 Axes>",
      "image/png": "[encoded data removed]"
     },
     "metadata": {},
     "output_type": "display_data"
    },
    {
     "name": "stdout",
     "output_type": "stream",
     "text": [
      "Better model found at epoch 1 with r2_score value: -0.008675616106832429.\n",
      "Better model found at epoch 2 with r2_score value: 0.02657399726037102.\n",
      "Better model found at epoch 3 with r2_score value: 0.12568779123849216.\n",
      "Better model found at epoch 4 with r2_score value: 0.45199344476871217.\n",
      "Better model found at epoch 5 with r2_score value: 0.657481015226774.\n",
      "Better model found at epoch 6 with r2_score value: 0.7550596711097342.\n",
      "Better model found at epoch 7 with r2_score value: 0.8471273325873313.\n",
      "Better model found at epoch 8 with r2_score value: 0.9018687299273661.\n",
      "Better model found at epoch 9 with r2_score value: 0.9195434354367659.\n",
      "Better model found at epoch 11 with r2_score value: 0.9541004924343153.\n",
      "Better model found at epoch 17 with r2_score value: 0.9661124615660605.\n",
      "Better model found at epoch 27 with r2_score value: 0.977153721727552.\n"
     ]
    }
   ],
   "source": [
    "learn.fit_one_cycle(50,cbs=[ShowGraphCallback(),SaveModelCallback(monitor='r2_score',min_delta=0.01),TrackerCallback()])"
   ]
  },
  {
   "cell_type": "markdown",
   "id": "2578a0ee",
   "metadata": {},
   "source": [
    "### 3.4 Find the Standard Deviation of the readings to check the Goodness of the Model Training and Predicitons"
   ]
  },
  {
   "cell_type": "code",
   "execution_count": 16,
   "id": "511763bb",
   "metadata": {},
   "outputs": [
    {
     "data": {
      "text/plain": "65.25466785198563"
     },
     "execution_count": 16,
     "metadata": {},
     "output_type": "execute_result"
    }
   ],
   "source": [
    "GWL['Readings'].std()"
   ]
  },
  {
   "cell_type": "markdown",
   "id": "8bcf0a11",
   "metadata": {},
   "source": [
    "### 3.4 Save and Export the Model"
   ]
  },
  {
   "cell_type": "code",
   "execution_count": 18,
   "id": "203c6b1b",
   "metadata": {},
   "outputs": [
    {
     "ename": "AttributeError",
     "evalue": "Can't pickle local object 'PearsonCorrCoef.<locals>.pearsonr'",
     "output_type": "error",
     "traceback": [
      "\u001B[1;31m---------------------------------------------------------------------------\u001B[0m",
      "\u001B[1;31mAttributeError\u001B[0m                            Traceback (most recent call last)",
      "\u001B[1;32m~\\AppData\\Local\\Temp/ipykernel_9292/3529729890.py\u001B[0m in \u001B[0;36m<module>\u001B[1;34m\u001B[0m\n\u001B[0;32m      2\u001B[0m \u001B[1;32mglobal\u001B[0m \u001B[0mx\u001B[0m\u001B[1;33m\u001B[0m\u001B[1;33m\u001B[0m\u001B[0m\n\u001B[0;32m      3\u001B[0m \u001B[0mx\u001B[0m\u001B[1;33m=\u001B[0m \u001B[0mlearn\u001B[0m\u001B[1;33m\u001B[0m\u001B[1;33m\u001B[0m\u001B[0m\n\u001B[1;32m----> 4\u001B[1;33m \u001B[0mx\u001B[0m\u001B[1;33m.\u001B[0m\u001B[0mexport\u001B[0m\u001B[1;33m(\u001B[0m\u001B[1;34m'GEOL720.pkl'\u001B[0m\u001B[1;33m)\u001B[0m\u001B[1;33m\u001B[0m\u001B[1;33m\u001B[0m\u001B[0m\n\u001B[0m\u001B[0;32m      5\u001B[0m \u001B[0mlearn\u001B[0m\u001B[1;33m.\u001B[0m\u001B[0msave\u001B[0m\u001B[1;33m(\u001B[0m\u001B[1;34m'AlAin2'\u001B[0m\u001B[1;33m)\u001B[0m\u001B[1;33m\u001B[0m\u001B[1;33m\u001B[0m\u001B[0m\n\u001B[0;32m      6\u001B[0m \u001B[0mx\u001B[0m\u001B[1;33m\u001B[0m\u001B[1;33m\u001B[0m\u001B[0m\n",
      "\u001B[1;32m~\\.conda\\envs\\fastai2\\lib\\site-packages\\fastai\\learner.py\u001B[0m in \u001B[0;36mexport\u001B[1;34m(self, fname, pickle_module, pickle_protocol)\u001B[0m\n\u001B[0;32m    373\u001B[0m         \u001B[1;31m#To avoid the warning that come from PyTorch about model not being checked\u001B[0m\u001B[1;33m\u001B[0m\u001B[1;33m\u001B[0m\u001B[1;33m\u001B[0m\u001B[0m\n\u001B[0;32m    374\u001B[0m         \u001B[0mwarnings\u001B[0m\u001B[1;33m.\u001B[0m\u001B[0msimplefilter\u001B[0m\u001B[1;33m(\u001B[0m\u001B[1;34m\"ignore\"\u001B[0m\u001B[1;33m)\u001B[0m\u001B[1;33m\u001B[0m\u001B[1;33m\u001B[0m\u001B[0m\n\u001B[1;32m--> 375\u001B[1;33m         \u001B[0mtorch\u001B[0m\u001B[1;33m.\u001B[0m\u001B[0msave\u001B[0m\u001B[1;33m(\u001B[0m\u001B[0mself\u001B[0m\u001B[1;33m,\u001B[0m \u001B[0mself\u001B[0m\u001B[1;33m.\u001B[0m\u001B[0mpath\u001B[0m\u001B[1;33m/\u001B[0m\u001B[0mfname\u001B[0m\u001B[1;33m,\u001B[0m \u001B[0mpickle_module\u001B[0m\u001B[1;33m=\u001B[0m\u001B[0mpickle_module\u001B[0m\u001B[1;33m,\u001B[0m \u001B[0mpickle_protocol\u001B[0m\u001B[1;33m=\u001B[0m\u001B[0mpickle_protocol\u001B[0m\u001B[1;33m)\u001B[0m\u001B[1;33m\u001B[0m\u001B[1;33m\u001B[0m\u001B[0m\n\u001B[0m\u001B[0;32m    376\u001B[0m     \u001B[0mself\u001B[0m\u001B[1;33m.\u001B[0m\u001B[0mcreate_opt\u001B[0m\u001B[1;33m(\u001B[0m\u001B[1;33m)\u001B[0m\u001B[1;33m\u001B[0m\u001B[1;33m\u001B[0m\u001B[0m\n\u001B[0;32m    377\u001B[0m     \u001B[1;32mif\u001B[0m \u001B[0mstate\u001B[0m \u001B[1;32mis\u001B[0m \u001B[1;32mnot\u001B[0m \u001B[1;32mNone\u001B[0m\u001B[1;33m:\u001B[0m \u001B[0mself\u001B[0m\u001B[1;33m.\u001B[0m\u001B[0mopt\u001B[0m\u001B[1;33m.\u001B[0m\u001B[0mload_state_dict\u001B[0m\u001B[1;33m(\u001B[0m\u001B[0mstate\u001B[0m\u001B[1;33m)\u001B[0m\u001B[1;33m\u001B[0m\u001B[1;33m\u001B[0m\u001B[0m\n",
      "\u001B[1;32m~\\.conda\\envs\\fastai2\\lib\\site-packages\\torch\\serialization.py\u001B[0m in \u001B[0;36msave\u001B[1;34m(obj, f, pickle_module, pickle_protocol, _use_new_zipfile_serialization)\u001B[0m\n\u001B[0;32m    377\u001B[0m         \u001B[1;32mif\u001B[0m \u001B[0m_use_new_zipfile_serialization\u001B[0m\u001B[1;33m:\u001B[0m\u001B[1;33m\u001B[0m\u001B[1;33m\u001B[0m\u001B[0m\n\u001B[0;32m    378\u001B[0m             \u001B[1;32mwith\u001B[0m \u001B[0m_open_zipfile_writer\u001B[0m\u001B[1;33m(\u001B[0m\u001B[0mopened_file\u001B[0m\u001B[1;33m)\u001B[0m \u001B[1;32mas\u001B[0m \u001B[0mopened_zipfile\u001B[0m\u001B[1;33m:\u001B[0m\u001B[1;33m\u001B[0m\u001B[1;33m\u001B[0m\u001B[0m\n\u001B[1;32m--> 379\u001B[1;33m                 \u001B[0m_save\u001B[0m\u001B[1;33m(\u001B[0m\u001B[0mobj\u001B[0m\u001B[1;33m,\u001B[0m \u001B[0mopened_zipfile\u001B[0m\u001B[1;33m,\u001B[0m \u001B[0mpickle_module\u001B[0m\u001B[1;33m,\u001B[0m \u001B[0mpickle_protocol\u001B[0m\u001B[1;33m)\u001B[0m\u001B[1;33m\u001B[0m\u001B[1;33m\u001B[0m\u001B[0m\n\u001B[0m\u001B[0;32m    380\u001B[0m                 \u001B[1;32mreturn\u001B[0m\u001B[1;33m\u001B[0m\u001B[1;33m\u001B[0m\u001B[0m\n\u001B[0;32m    381\u001B[0m         \u001B[0m_legacy_save\u001B[0m\u001B[1;33m(\u001B[0m\u001B[0mobj\u001B[0m\u001B[1;33m,\u001B[0m \u001B[0mopened_file\u001B[0m\u001B[1;33m,\u001B[0m \u001B[0mpickle_module\u001B[0m\u001B[1;33m,\u001B[0m \u001B[0mpickle_protocol\u001B[0m\u001B[1;33m)\u001B[0m\u001B[1;33m\u001B[0m\u001B[1;33m\u001B[0m\u001B[0m\n",
      "\u001B[1;32m~\\.conda\\envs\\fastai2\\lib\\site-packages\\torch\\serialization.py\u001B[0m in \u001B[0;36m_save\u001B[1;34m(obj, zip_file, pickle_module, pickle_protocol)\u001B[0m\n\u001B[0;32m    482\u001B[0m     \u001B[0mpickler\u001B[0m \u001B[1;33m=\u001B[0m \u001B[0mpickle_module\u001B[0m\u001B[1;33m.\u001B[0m\u001B[0mPickler\u001B[0m\u001B[1;33m(\u001B[0m\u001B[0mdata_buf\u001B[0m\u001B[1;33m,\u001B[0m \u001B[0mprotocol\u001B[0m\u001B[1;33m=\u001B[0m\u001B[0mpickle_protocol\u001B[0m\u001B[1;33m)\u001B[0m\u001B[1;33m\u001B[0m\u001B[1;33m\u001B[0m\u001B[0m\n\u001B[0;32m    483\u001B[0m     \u001B[0mpickler\u001B[0m\u001B[1;33m.\u001B[0m\u001B[0mpersistent_id\u001B[0m \u001B[1;33m=\u001B[0m \u001B[0mpersistent_id\u001B[0m\u001B[1;33m\u001B[0m\u001B[1;33m\u001B[0m\u001B[0m\n\u001B[1;32m--> 484\u001B[1;33m     \u001B[0mpickler\u001B[0m\u001B[1;33m.\u001B[0m\u001B[0mdump\u001B[0m\u001B[1;33m(\u001B[0m\u001B[0mobj\u001B[0m\u001B[1;33m)\u001B[0m\u001B[1;33m\u001B[0m\u001B[1;33m\u001B[0m\u001B[0m\n\u001B[0m\u001B[0;32m    485\u001B[0m     \u001B[0mdata_value\u001B[0m \u001B[1;33m=\u001B[0m \u001B[0mdata_buf\u001B[0m\u001B[1;33m.\u001B[0m\u001B[0mgetvalue\u001B[0m\u001B[1;33m(\u001B[0m\u001B[1;33m)\u001B[0m\u001B[1;33m\u001B[0m\u001B[1;33m\u001B[0m\u001B[0m\n\u001B[0;32m    486\u001B[0m     \u001B[0mzip_file\u001B[0m\u001B[1;33m.\u001B[0m\u001B[0mwrite_record\u001B[0m\u001B[1;33m(\u001B[0m\u001B[1;34m'data.pkl'\u001B[0m\u001B[1;33m,\u001B[0m \u001B[0mdata_value\u001B[0m\u001B[1;33m,\u001B[0m \u001B[0mlen\u001B[0m\u001B[1;33m(\u001B[0m\u001B[0mdata_value\u001B[0m\u001B[1;33m)\u001B[0m\u001B[1;33m)\u001B[0m\u001B[1;33m\u001B[0m\u001B[1;33m\u001B[0m\u001B[0m\n",
      "\u001B[1;31mAttributeError\u001B[0m: Can't pickle local object 'PearsonCorrCoef.<locals>.pearsonr'"
     ]
    }
   ],
   "source": [
    "# check the i number\n",
    "global x\n",
    "x= learn\n",
    "x.export('GEOL720.pkl')\n",
    "learn.save('AlAin2')\n",
    "x"
   ]
  },
  {
   "cell_type": "markdown",
   "id": "725282cf",
   "metadata": {},
   "source": [
    "## 4 Prediction"
   ]
  },
  {
   "cell_type": "markdown",
   "id": "35e3f457",
   "metadata": {},
   "source": [
    "### 4.1 Load and save the parameters as Test Dataset"
   ]
  },
  {
   "cell_type": "code",
   "execution_count": 22,
   "id": "9ee2a0a9",
   "metadata": {
    "scrolled": true
   },
   "outputs": [],
   "source": [
    "path= 'F:\\\\Code\\\\PredictionsExpo2.xlsx'\n",
    "PredParam= pd.read_excel(path,sheet_name=None)\n",
    "Years = list(PredParam.keys())"
   ]
  },
  {
   "cell_type": "markdown",
   "id": "ec0000fd",
   "metadata": {},
   "source": [
    "### 4.2 Get the Prediciton Parameters"
   ]
  },
  {
   "cell_type": "code",
   "execution_count": 24,
   "id": "4e5cfacd",
   "metadata": {},
   "outputs": [],
   "source": [
    "PredicitonYears=list(range(len((Years))))\n",
    "writer = pd.ExcelWriter('F:\\\\Code\\\\Predicted.xlsx',engine=\"openpyxl\",mode='a')"
   ]
  },
  {
   "cell_type": "markdown",
   "id": "43fcf33b",
   "metadata": {},
   "source": [
    "### 4.3 Extract and Save the Prediction into CSV file"
   ]
  },
  {
   "cell_type": "code",
   "execution_count": 25,
   "id": "08d6cb58",
   "metadata": {
    "scrolled": true
   },
   "outputs": [
    {
     "data": {
      "text/html": [],
      "text/plain": [
       "<IPython.core.display.HTML object>"
      ]
     },
     "metadata": {},
     "output_type": "display_data"
    },
    {
     "data": {
      "text/html": [],
      "text/plain": [
       "<IPython.core.display.HTML object>"
      ]
     },
     "metadata": {},
     "output_type": "display_data"
    },
    {
     "data": {
      "text/html": [],
      "text/plain": [
       "<IPython.core.display.HTML object>"
      ]
     },
     "metadata": {},
     "output_type": "display_data"
    },
    {
     "data": {
      "text/html": [],
      "text/plain": [
       "<IPython.core.display.HTML object>"
      ]
     },
     "metadata": {},
     "output_type": "display_data"
    },
    {
     "data": {
      "text/html": [],
      "text/plain": [
       "<IPython.core.display.HTML object>"
      ]
     },
     "metadata": {},
     "output_type": "display_data"
    },
    {
     "data": {
      "text/html": [],
      "text/plain": [
       "<IPython.core.display.HTML object>"
      ]
     },
     "metadata": {},
     "output_type": "display_data"
    },
    {
     "data": {
      "text/html": [],
      "text/plain": [
       "<IPython.core.display.HTML object>"
      ]
     },
     "metadata": {},
     "output_type": "display_data"
    }
   ],
   "source": [
    "for i in PredicitonYears:\n",
    "    year=i\n",
    "    dl = learn.dls.test_dl(PredParam[Years[year]])\n",
    "    PredData=learn.get_preds(dl=dl)                                    #Get the Prediciton\n",
    "    PredParam[Years[year]]['Predictions']=PredData[0]\n",
    "    PredParam[Years[year]].to_excel(writer,sheet_name=Years[year])\n",
    "writer.save()\n",
    "writer.close()"
   ]
  }
 ],
 "metadata": {
  "kernelspec": {
   "display_name": "Python 3 (ipykernel)",
   "language": "python",
   "name": "python3"
  },
  "language_info": {
   "codemirror_mode": {
    "name": "ipython",
    "version": 3
   },
   "file_extension": ".py",
   "mimetype": "text/x-python",
   "name": "python",
   "nbconvert_exporter": "python",
   "pygments_lexer": "ipython3",
   "version": "3.8.12"
  },
  "varInspector": {
   "cols": {
    "lenName": 16,
    "lenType": 16,
    "lenVar": 40
   },
   "kernels_config": {
    "python": {
     "delete_cmd_postfix": "",
     "delete_cmd_prefix": "del ",
     "library": "var_list.py",
     "varRefreshCmd": "print(var_dic_list())"
    },
    "r": {
     "delete_cmd_postfix": ") ",
     "delete_cmd_prefix": "rm(",
     "library": "var_list.r",
     "varRefreshCmd": "cat(var_dic_list()) "
    }
   },
   "types_to_exclude": [
    "module",
    "function",
    "builtin_function_or_method",
    "instance",
    "_Feature"
   ],
   "window_display": false
  }
 },
 "nbformat": 4,
 "nbformat_minor": 5
}